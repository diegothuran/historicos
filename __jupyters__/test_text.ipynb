{
 "cells": [
  {
   "cell_type": "code",
   "execution_count": 2,
   "metadata": {
    "collapsed": true
   },
   "outputs": [],
   "source": [
    "from PyPDF2 import PdfWriter, PdfReader\n",
    "import io\n",
    "from reportlab.pdfgen import canvas\n",
    "from reportlab.lib.pagesizes import letter"
   ]
  },
  {
   "cell_type": "code",
   "execution_count": 6,
   "outputs": [],
   "source": [
    "pdf_file = PdfReader(open(\"../Abigail.pdf\", \"rb\"))"
   ],
   "metadata": {
    "collapsed": false
   }
  },
  {
   "cell_type": "code",
   "execution_count": 7,
   "outputs": [],
   "source": [
    "page = pdf_file.pages[1]\n",
    "content = page.extract_text()"
   ],
   "metadata": {
    "collapsed": false
   }
  },
  {
   "cell_type": "code",
   "execution_count": 8,
   "outputs": [
    {
     "data": {
      "text/plain": "'HISTÓRICO ESCOLAR DO ENSINO MÉDIO / ENSINO REGULAR\\nNome:\\n Ana Vitória Lima Bezerra\\nCOMPONENTES CURRICULARES\\n1º ANO - SEMI-\\nINTEGRAL\\n \\nAno: \\n2020\\n2º ANO - SEMI-INTEGRAL\\nAno: \\n2021\\n3º ANO - SEMI-INTEGRAL\\nAno: \\n2022\\nCH Total\\nNota\\nCH\\nNota\\nCH\\nNota\\nCH\\nBIOLOGIA\\n-\\n120\\n8,5\\n120\\n6,5\\n120\\n360\\nFÍSICA\\n-\\n120\\n8,0\\n160\\n8,0\\n160\\n440\\nMATEMÁTICA\\n-\\n240\\n7,5\\n240\\n7,0\\n240\\n720\\nQUÍMICA\\n-\\n120\\n8,0\\n120\\n8,5\\n120\\n360\\nFILOSOFIA\\n-\\n40\\n7,5\\n40\\n7,5\\n40\\n120\\nGEOGRAFIA\\n-\\n80\\n8,0\\n80\\n9,5\\n80\\n240\\nHISTÓRIA\\n-\\n80\\n8,5\\n80\\n8,5\\n80\\n240\\nSOCIOLOGIA\\n-\\n40\\n8,0\\n40\\n8,5\\n40\\n120\\nARTE\\n-\\n80\\n9,0\\n40\\n8,5\\n40\\n160\\nEDUCAÇÃO FÍSICA\\n-\\n80\\n8,5\\n80\\n8,5\\n80\\n240\\nLÍNGUA PORTUGUESA\\n-\\n240\\n8,5\\n240\\n8,5\\n240\\n720\\n-\\n-\\n-\\n-\\n-\\n-\\n-\\n-\\n-\\n-\\n-\\n-\\n-\\n-\\n-\\n-\\n-\\n-\\n-\\n-\\n-\\n-\\n-\\n-\\n-\\n-\\n-\\n-\\n-\\n-\\n-\\n-\\nLÍNGUA ESTRANGEIRA INGLÊS\\n-\\n80\\n8,5\\n80\\n9,5\\n80\\n240\\nPROJETO DE VIDA E\\nEMPREENDEDORISMO\\n-\\n40\\n8,0\\n40\\n10,0\\n40\\n120\\n-\\n-\\n-\\n-\\n-\\n-\\n-\\n-\\n-\\n-\\n-\\n-\\n-\\n-\\n-\\n-\\n-\\n-\\n-\\n-\\n-\\n-\\n-\\n-\\n-\\n-\\n-\\n-\\n-\\n-\\n-\\n-\\n-\\n-\\n-\\n-\\n-\\n-\\n-\\n-\\n-\\n-\\n-\\n-\\n-\\n-\\n-\\n-\\n-\\n-\\n-\\n-\\n-\\n-\\n-\\n-\\n-\\n-\\n-\\n-\\n-\\n-\\n-\\n-\\nELETIVAS\\n-\\n40\\n-\\n40\\n-\\n40\\n120\\n-\\n-\\n-\\n-\\n-\\n-\\n-\\n-\\n-\\n-\\n-\\n-\\n-\\n-\\n-\\n-\\n-\\n-\\n-\\n-\\n-\\n-\\n-\\n-\\n-\\n-\\n-\\n-\\n-\\n-\\n-\\n-\\n-\\n-\\n-\\n-\\n-\\n-\\n-\\n-\\n-\\n-\\n-\\n-\\n-\\n-\\n-\\n-\\n-\\n-\\n-\\n-\\n-\\n-\\n-\\n-\\nCarga Horária Total\\n1400\\n1400\\n1400\\nCH Total\\nCarga Horária em Horas Letivas\\n1166:40\\n1166:40\\n1166:40\\nPercentual de Frequência do(a) Estudante\\n96,43%\\n95,79%\\n94,50%\\nLegenda: CH = Carga Horária\\nSerra Talhada - PE, 23 de Janeiro de 2023\\nLEIDYANE DE SOUZA SILVA \\nMATRÍCULA Nº 2629771 \\nSecretário Escolar\\n \\nCARLOS ANTONIO GUIMARAES SILVA \\nMATRÍCULA Nº 2422590 \\nDiretor Escolar\\nEstabelecimento: \\nESCOLA DE REFERÊNCIA EM ENSINO MÉDIO CORNELIO SOARES \\nCidade: \\nSERRA TALHADA\\n \\nEstado: \\nPE\\nResultado: \\nCONTINUIDADE DO CICLO\\nEstabelecimento: \\nESCOLA DE REFERÊNCIA EM ENSINO MÉDIO CORNELIO SOARES \\nCidade: \\nSERRA TALHADA\\n \\nEstado: \\nPE\\nResultado: \\nPROGRESSÃO PLENA\\nEstabelecimento: \\nESCOLA DE REFERÊNCIA EM ENSINO MÉDIO CORNELIO SOARES \\nCidade: \\nSERRA TALHADA\\n \\nEstado: \\nPE\\nResultado: \\nPROGRESSÃO PLENA\\nBase Nacional Comum Curricular\\nParte Diversificada\\nAtividade Complementar\\nSECRETÁRIO: LEIDYANE DE SOUZA SILVA, mat. nº 2629771 DIRETOR: CARLOS ANTONIO GUIMARAES SILVA, mat. nº 2422590'"
     },
     "execution_count": 8,
     "metadata": {},
     "output_type": "execute_result"
    }
   ],
   "source": [
    "content"
   ],
   "metadata": {
    "collapsed": false
   }
  },
  {
   "cell_type": "code",
   "execution_count": null,
   "outputs": [],
   "source": [],
   "metadata": {
    "collapsed": false
   }
  }
 ],
 "metadata": {
  "kernelspec": {
   "display_name": "Python 3",
   "language": "python",
   "name": "python3"
  },
  "language_info": {
   "codemirror_mode": {
    "name": "ipython",
    "version": 2
   },
   "file_extension": ".py",
   "mimetype": "text/x-python",
   "name": "python",
   "nbconvert_exporter": "python",
   "pygments_lexer": "ipython2",
   "version": "2.7.6"
  }
 },
 "nbformat": 4,
 "nbformat_minor": 0
}
